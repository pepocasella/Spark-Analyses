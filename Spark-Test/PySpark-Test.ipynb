{
 "cells": [
  {
   "cell_type": "code",
   "execution_count": 15,
   "id": "a8003373",
   "metadata": {
    "ExecuteTime": {
     "end_time": "2022-08-07T22:39:53.535794Z",
     "start_time": "2022-08-07T22:39:53.525821Z"
    }
   },
   "outputs": [
    {
     "name": "stdout",
     "output_type": "stream",
     "text": [
      "The sparksql_magic extension is already loaded. To reload it, use:\n",
      "  %reload_ext sparksql_magic\n"
     ]
    }
   ],
   "source": [
    "import os\n",
    "import glob\n",
    "import numpy as np\n",
    "import pandas as pd\n",
    "import pyspark\n",
    "\n",
    "from pyspark import SparkContext\n",
    "from pyspark.sql import SparkSession\n",
    "from pyspark.sql import SQLContext\n",
    "from pyspark.sql.types import *\n",
    "from pyspark.sql import Row\n",
    "\n",
    "%load_ext sparksql_magic"
   ]
  },
  {
   "cell_type": "code",
   "execution_count": 2,
   "id": "18a6bb9e",
   "metadata": {
    "ExecuteTime": {
     "end_time": "2022-08-07T22:31:09.656154Z",
     "start_time": "2022-08-07T22:31:09.643133Z"
    }
   },
   "outputs": [],
   "source": [
    "def set_config():\n",
    "    import os\n",
    "    os.environ['SPARK_HOME'] = \"C:\\Spark\\spark-3.3.0-bin-hadoop2\"\n",
    "    os.environ['JAVA_HOME'] = \"C:\\Java\\jre1.8.0_341\"\n",
    "    \n",
    "set_config()"
   ]
  },
  {
   "cell_type": "markdown",
   "id": "68925551",
   "metadata": {},
   "source": [
    "### Spark Session"
   ]
  },
  {
   "cell_type": "code",
   "execution_count": 3,
   "id": "78b35ef7",
   "metadata": {
    "ExecuteTime": {
     "end_time": "2022-08-07T22:31:17.002149Z",
     "start_time": "2022-08-07T22:31:11.637433Z"
    }
   },
   "outputs": [],
   "source": [
    "spark = SparkSession \\\n",
    "            .builder \\\n",
    "            .appName('test') \\\n",
    "            .getOrCreate()"
   ]
  },
  {
   "cell_type": "code",
   "execution_count": 4,
   "id": "4870aa32",
   "metadata": {
    "ExecuteTime": {
     "end_time": "2022-08-07T22:31:18.500144Z",
     "start_time": "2022-08-07T22:31:17.021099Z"
    }
   },
   "outputs": [
    {
     "data": {
      "text/html": [
       "\n",
       "            <div>\n",
       "                <p><b>SparkSession - in-memory</b></p>\n",
       "                \n",
       "        <div>\n",
       "            <p><b>SparkContext</b></p>\n",
       "\n",
       "            <p><a href=\"http://DESKTOP-J8PUJ7I:4040\">Spark UI</a></p>\n",
       "\n",
       "            <dl>\n",
       "              <dt>Version</dt>\n",
       "                <dd><code>v3.3.0</code></dd>\n",
       "              <dt>Master</dt>\n",
       "                <dd><code>local[*]</code></dd>\n",
       "              <dt>AppName</dt>\n",
       "                <dd><code>test</code></dd>\n",
       "            </dl>\n",
       "        </div>\n",
       "        \n",
       "            </div>\n",
       "        "
      ],
      "text/plain": [
       "<pyspark.sql.session.SparkSession at 0x1c7c922a490>"
      ]
     },
     "execution_count": 4,
     "metadata": {},
     "output_type": "execute_result"
    }
   ],
   "source": [
    "spark"
   ]
  },
  {
   "cell_type": "markdown",
   "id": "f7089c97",
   "metadata": {},
   "source": [
    "# Data Acquisition"
   ]
  },
  {
   "cell_type": "code",
   "execution_count": 5,
   "id": "b7a4eb6f",
   "metadata": {
    "ExecuteTime": {
     "end_time": "2022-08-07T22:31:28.972440Z",
     "start_time": "2022-08-07T22:31:22.182056Z"
    }
   },
   "outputs": [
    {
     "name": "stdout",
     "output_type": "stream",
     "text": [
      "Wall time: 6.77 s\n"
     ]
    }
   ],
   "source": [
    "%%time\n",
    "os.chdir(\"../../Data/Transactions\")\n",
    "file_list = [file for file in glob.glob(\"*.parquet\")]\n",
    "df = spark.read.parquet('../../Data/Transactions/*.parquet')"
   ]
  },
  {
   "cell_type": "code",
   "execution_count": 8,
   "id": "2793b17b",
   "metadata": {
    "ExecuteTime": {
     "end_time": "2022-08-07T22:32:28.491834Z",
     "start_time": "2022-08-07T22:32:25.085998Z"
    }
   },
   "outputs": [
    {
     "data": {
      "text/plain": [
       "17376844"
      ]
     },
     "execution_count": 8,
     "metadata": {},
     "output_type": "execute_result"
    }
   ],
   "source": [
    "df.count()"
   ]
  },
  {
   "cell_type": "code",
   "execution_count": 13,
   "id": "ba1d2320",
   "metadata": {
    "ExecuteTime": {
     "end_time": "2022-08-07T22:36:44.751094Z",
     "start_time": "2022-08-07T22:36:43.510278Z"
    }
   },
   "outputs": [
    {
     "name": "stdout",
     "output_type": "stream",
     "text": [
      "+---------------------+---------+----------+----------+------------+-----------------+--------------+----------+\n",
      "|person_transaction_id|person_id|country_id|company_id|company_slug|parent_company_id|considered_day|product_id|\n",
      "+---------------------+---------+----------+----------+------------+-----------------+--------------+----------+\n",
      "|            167051187| 16961183|        76|  789719.0|assemperj-br|         789719.0|      20220617|        16|\n",
      "|            167839883| 14382768|        76|  781483.0|       appai|         781483.0|      20220621|        16|\n",
      "|            168503929| 17492624|        76|  781483.0|       appai|         781483.0|      20220623|        16|\n",
      "|            170326775|  7834531|        76|  782795.0|        dasa|         782795.0|      20220630|        16|\n",
      "|            165691726| 22655854|        76|  784166.0|  martins-fm|         779975.0|      20220610|        16|\n",
      "+---------------------+---------+----------+----------+------------+-----------------+--------------+----------+\n",
      "only showing top 5 rows\n",
      "\n"
     ]
    }
   ],
   "source": [
    "columns = [\n",
    "    'person_transaction_id',\n",
    "    'person_id',\n",
    "    'country_id',\n",
    "    'company_id',\n",
    "    'company_slug',\n",
    "    'parent_company_id',\n",
    "    'considered_day',\n",
    "    'product_id'\n",
    "]\n",
    "\n",
    "df.select(columns).show(5)"
   ]
  },
  {
   "cell_type": "markdown",
   "id": "be100e9f",
   "metadata": {},
   "source": [
    "### Creating Schema"
   ]
  },
  {
   "cell_type": "code",
   "execution_count": 17,
   "id": "1d8c0eb1",
   "metadata": {
    "ExecuteTime": {
     "end_time": "2022-08-07T22:41:40.335875Z",
     "start_time": "2022-08-07T22:41:40.252849Z"
    }
   },
   "outputs": [],
   "source": [
    "df.createOrReplaceTempView('data')"
   ]
  },
  {
   "cell_type": "code",
   "execution_count": 18,
   "id": "daa9409c",
   "metadata": {
    "ExecuteTime": {
     "end_time": "2022-08-07T22:41:52.284394Z",
     "start_time": "2022-08-07T22:41:52.261437Z"
    }
   },
   "outputs": [
    {
     "name": "stdout",
     "output_type": "stream",
     "text": [
      "root\n",
      " |-- person_transaction_id: long (nullable = true)\n",
      " |-- person_id: long (nullable = true)\n",
      " |-- country_id: long (nullable = true)\n",
      " |-- company_id: double (nullable = true)\n",
      " |-- company_slug: string (nullable = true)\n",
      " |-- parent_company_id: double (nullable = true)\n",
      " |-- considered_day: long (nullable = true)\n",
      " |-- considered_hour: long (nullable = true)\n",
      " |-- product_id: long (nullable = true)\n",
      " |-- taxable_bu: long (nullable = true)\n",
      " |-- gym_product_id: long (nullable = true)\n",
      " |-- gym_id: long (nullable = true)\n",
      " |-- gym_slug: string (nullable = true)\n",
      " |-- gym_network_id: double (nullable = true)\n",
      " |-- gym_commission_percentage: double (nullable = true)\n",
      " |-- gym_commission: double (nullable = true)\n",
      " |-- accumulated_uses: long (nullable = true)\n",
      " |-- transaction_type: string (nullable = true)\n",
      "\n"
     ]
    }
   ],
   "source": [
    "df.printSchema()"
   ]
  },
  {
   "cell_type": "code",
   "execution_count": 19,
   "id": "1a31a761",
   "metadata": {
    "ExecuteTime": {
     "end_time": "2022-08-07T22:43:25.535003Z",
     "start_time": "2022-08-07T22:43:11.870468Z"
    }
   },
   "outputs": [
    {
     "name": "stdout",
     "output_type": "stream",
     "text": [
      "only showing top 20 row(s)\n"
     ]
    },
    {
     "data": {
      "text/html": [
       "<table><tr style=\"border-bottom: 1px solid\"><td style=\"font-weight: bold\">person_transaction_id</td><td style=\"font-weight: bold\">person_id</td><td style=\"font-weight: bold\">country_id</td><td style=\"font-weight: bold\">company_id</td><td style=\"font-weight: bold\">company_slug</td><td style=\"font-weight: bold\">parent_company_id</td><td style=\"font-weight: bold\">considered_day</td><td style=\"font-weight: bold\">considered_hour</td><td style=\"font-weight: bold\">product_id</td><td style=\"font-weight: bold\">taxable_bu</td><td style=\"font-weight: bold\">gym_product_id</td><td style=\"font-weight: bold\">gym_id</td><td style=\"font-weight: bold\">gym_slug</td><td style=\"font-weight: bold\">gym_network_id</td><td style=\"font-weight: bold\">gym_commission_percentage</td><td style=\"font-weight: bold\">gym_commission</td><td style=\"font-weight: bold\">accumulated_uses</td><td style=\"font-weight: bold\">transaction_type</td></tr><tr><td>167051187</td><td>16961183</td><td>76</td><td>789719.0</td><td>assemperj-br</td><td>789719.0</td><td>20220617</td><td>2022061708</td><td>16</td><td>0</td><td>476504</td><td>481399</td><td>ct-vo2-2cfd8ed1-95f9-4592-a22b-b1c80cbc0dee</td><td>null</td><td>1.0</td><td>9.0</td><td>233</td><td>gym_visit</td></tr><tr><td>167085979</td><td>5101314</td><td>76</td><td>782795.0</td><td>dasa</td><td>782795.0</td><td>20220617</td><td>2022061711</td><td>16</td><td>0</td><td>28399</td><td>99853</td><td>academia-sergio-amim-unidade-mananciais</td><td>1764.0</td><td>1.0</td><td>9.63</td><td>78</td><td>gym_visit</td></tr><tr><td>167082019</td><td>10550669</td><td>76</td><td>786356.0</td><td>afpesp-br</td><td>786356.0</td><td>20220617</td><td>2022061710</td><td>16</td><td>0</td><td>224867</td><td>2789</td><td>amc-sports-academia-vila-maria-baixa-sao-paulo</td><td>1363.0</td><td>1.0</td><td>20.15</td><td>13</td><td>gym_visit</td></tr><tr><td>167082925</td><td>2793561</td><td>76</td><td>781483.0</td><td>appai</td><td>781483.0</td><td>20220617</td><td>2022061711</td><td>16</td><td>0</td><td>100412</td><td>36315</td><td>academia-jock-free-vista-alegre-rio-de-janeiro</td><td>null</td><td>1.0</td><td>9.45</td><td>72</td><td>gym_visit</td></tr><tr><td>167080688</td><td>5760427</td><td>76</td><td>782795.0</td><td>dasa</td><td>782795.0</td><td>20220617</td><td>2022061710</td><td>16</td><td>0</td><td>2633</td><td>972</td><td>wet-academia-vila-sonia-sao-paulo</td><td>null</td><td>1.0</td><td>28.03</td><td>18</td><td>gym_visit</td></tr><tr><td>167109887</td><td>13891347</td><td>76</td><td>787593.0</td><td>pmsp-br-family</td><td>787587.0</td><td>20220617</td><td>2022061713</td><td>16</td><td>0</td><td>8094</td><td>35311</td><td>academia-spah-itaquera-sao-paulo</td><td>null</td><td>1.0</td><td>8.73</td><td>317</td><td>gym_visit</td></tr><tr><td>167164387</td><td>5095913</td><td>76</td><td>782795.0</td><td>dasa</td><td>782795.0</td><td>20220617</td><td>2022061717</td><td>16</td><td>0</td><td>428156</td><td>467068</td><td>up-fitness-9ce3be47-b88d-42d8-86bb-ce518e181abf</td><td>null</td><td>1.0</td><td>7.42</td><td>15</td><td>gym_visit</td></tr><tr><td>167116626</td><td>13425851</td><td>76</td><td>804191.0</td><td>salitre-fertilizantes</td><td>804191.0</td><td>20220617</td><td>2022061714</td><td>16</td><td>0</td><td>421020</td><td>456940</td><td>espaco-fitness-academia-sao-joao-serra-do-salitre</td><td>null</td><td>1.0</td><td>6.98</td><td>431</td><td>gym_visit</td></tr><tr><td>167141061</td><td>21410490</td><td>76</td><td>784369.0</td><td>burgerking-fm</td><td>784367.0</td><td>20220617</td><td>2022061716</td><td>16</td><td>0</td><td>327371</td><td>408214</td><td>lima-fit-vila-santa-luzia-aluminio</td><td>null</td><td>1.0</td><td>17.25</td><td>1</td><td>gym_visit</td></tr><tr><td>167121367</td><td>2839112</td><td>76</td><td>781483.0</td><td>appai</td><td>781483.0</td><td>20220617</td><td>2022061714</td><td>16</td><td>0</td><td>74698</td><td>245328</td><td>body-coach-club-vila-valqueire-bento-ribeiro-rio-de-janeiro</td><td>1702.0</td><td>1.0</td><td>12.47</td><td>201</td><td>gym_visit</td></tr><tr><td>167051163</td><td>22681758</td><td>76</td><td>802756.0</td><td>sodexobeneficios-brasil-fm</td><td>769102.0</td><td>20220617</td><td>2022061708</td><td>16</td><td>0</td><td>365800</td><td>413398</td><td>lafit-academia-mangabeira-eusebio</td><td>null</td><td>1.0</td><td>4.85</td><td>1</td><td>gym_visit</td></tr><tr><td>167119652</td><td>934999</td><td>76</td><td>787593.0</td><td>pmsp-br-family</td><td>787587.0</td><td>20220617</td><td>2022061714</td><td>16</td><td>0</td><td>8094</td><td>35311</td><td>academia-spah-itaquera-sao-paulo</td><td>null</td><td>1.0</td><td>8.73</td><td>130</td><td>gym_visit</td></tr><tr><td>167165485</td><td>21603712</td><td>76</td><td>781483.0</td><td>appai</td><td>781483.0</td><td>20220617</td><td>2022061717</td><td>16</td><td>0</td><td>342019</td><td>361844</td><td>academia-top-fitness-bangu-bangu-rio-de-janeiro</td><td>null</td><td>1.0</td><td>5.05</td><td>29</td><td>gym_visit</td></tr><tr><td>167036271</td><td>2800533</td><td>76</td><td>781483.0</td><td>appai</td><td>781483.0</td><td>20220617</td><td>2022061707</td><td>16</td><td>0</td><td>43082</td><td>231564</td><td>hr-fitness-maria-paula-maria-paula-sao-goncalo</td><td>null</td><td>1.0</td><td>11.46</td><td>305</td><td>gym_visit</td></tr><tr><td>167083475</td><td>11371849</td><td>76</td><td>781483.0</td><td>appai</td><td>781483.0</td><td>20220617</td><td>2022061711</td><td>16</td><td>0</td><td>287987</td><td>376580</td><td>life-fit-campo-grande-campo-grande-rio-de-janeiro</td><td>1643.0</td><td>1.0</td><td>11.55</td><td>15</td><td>gym_visit</td></tr><tr><td>167091233</td><td>20291637</td><td>76</td><td>787593.0</td><td>pmsp-br-family</td><td>787587.0</td><td>20220617</td><td>2022061711</td><td>16</td><td>0</td><td>5302</td><td>26295</td><td>xploud-academia</td><td>null</td><td>1.0</td><td>7.99</td><td>77</td><td>gym_visit</td></tr><tr><td>167066739</td><td>21501314</td><td>76</td><td>781483.0</td><td>appai</td><td>781483.0</td><td>20220617</td><td>2022061709</td><td>16</td><td>0</td><td>287987</td><td>376580</td><td>life-fit-campo-grande-campo-grande-rio-de-janeiro</td><td>1643.0</td><td>1.0</td><td>11.55</td><td>64</td><td>gym_visit</td></tr><tr><td>167132042</td><td>23068057</td><td>76</td><td>787593.0</td><td>pmsp-br-family</td><td>787587.0</td><td>20220617</td><td>2022061715</td><td>16</td><td>0</td><td>224867</td><td>2789</td><td>amc-sports-academia-vila-maria-baixa-sao-paulo</td><td>1363.0</td><td>1.0</td><td>20.15</td><td>2</td><td>gym_visit</td></tr><tr><td>167181542</td><td>11595562</td><td>76</td><td>782795.0</td><td>dasa</td><td>782795.0</td><td>20220617</td><td>2022061720</td><td>30</td><td>5</td><td>470080</td><td>479554</td><td>pure-pilates-ermelino-matarazzo-vila-paranagua</td><td>2048.0</td><td>1.0</td><td>18.38</td><td>2</td><td>late_cancel</td></tr><tr><td>167108805</td><td>8481969</td><td>76</td><td>781483.0</td><td>appai</td><td>781483.0</td><td>20220617</td><td>2022061713</td><td>16</td><td>0</td><td>100412</td><td>36315</td><td>academia-jock-free-vista-alegre-rio-de-janeiro</td><td>null</td><td>1.0</td><td>9.45</td><td>180</td><td>gym_visit</td></tr></table>"
      ],
      "text/plain": [
       "<IPython.core.display.HTML object>"
      ]
     },
     "execution_count": 19,
     "metadata": {},
     "output_type": "execute_result"
    }
   ],
   "source": [
    "%%sparksql\n",
    "\n",
    "SELECT * FROM data WHERE considered_day = 20220617"
   ]
  },
  {
   "cell_type": "code",
   "execution_count": null,
   "id": "40353fc9",
   "metadata": {},
   "outputs": [],
   "source": []
  }
 ],
 "metadata": {
  "hide_input": false,
  "kernelspec": {
   "display_name": "Python 3",
   "language": "python",
   "name": "python3"
  },
  "language_info": {
   "codemirror_mode": {
    "name": "ipython",
    "version": 3
   },
   "file_extension": ".py",
   "mimetype": "text/x-python",
   "name": "python",
   "nbconvert_exporter": "python",
   "pygments_lexer": "ipython3",
   "version": "3.8.5"
  },
  "toc": {
   "base_numbering": 1,
   "nav_menu": {},
   "number_sections": true,
   "sideBar": true,
   "skip_h1_title": false,
   "title_cell": "Table of Contents",
   "title_sidebar": "Contents",
   "toc_cell": false,
   "toc_position": {},
   "toc_section_display": true,
   "toc_window_display": false
  },
  "varInspector": {
   "cols": {
    "lenName": 16,
    "lenType": 16,
    "lenVar": 40
   },
   "kernels_config": {
    "python": {
     "delete_cmd_postfix": "",
     "delete_cmd_prefix": "del ",
     "library": "var_list.py",
     "varRefreshCmd": "print(var_dic_list())"
    },
    "r": {
     "delete_cmd_postfix": ") ",
     "delete_cmd_prefix": "rm(",
     "library": "var_list.r",
     "varRefreshCmd": "cat(var_dic_list()) "
    }
   },
   "types_to_exclude": [
    "module",
    "function",
    "builtin_function_or_method",
    "instance",
    "_Feature"
   ],
   "window_display": false
  }
 },
 "nbformat": 4,
 "nbformat_minor": 5
}
